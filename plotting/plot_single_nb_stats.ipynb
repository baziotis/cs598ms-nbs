{
 "cells": [
  {
   "cell_type": "code",
   "execution_count": 15,
   "id": "8a795577",
   "metadata": {},
   "outputs": [],
   "source": [
    "import pandas as pd\n",
    "import numpy as np\n",
    "import json\n",
    "import os\n",
    "from scipy import stats\n",
    "import matplotlib.pyplot as plt\n",
    "import matplotlib\n",
    "import seaborn as sns"
   ]
  },
  {
   "cell_type": "code",
   "execution_count": 16,
   "id": "1aaa3607",
   "metadata": {},
   "outputs": [],
   "source": [
    "sns.set_palette(\"colorblind\")"
   ]
  },
  {
   "cell_type": "code",
   "execution_count": 17,
   "id": "b6050bb5",
   "metadata": {},
   "outputs": [],
   "source": [
    "def ns_to_ms(ns):\n",
    "  return ns / 1_000_000"
   ]
  },
  {
   "cell_type": "markdown",
   "id": "3acfe739",
   "metadata": {},
   "source": [
    "## Data Loading"
   ]
  },
  {
   "cell_type": "code",
   "execution_count": 18,
   "id": "7ea28972",
   "metadata": {},
   "outputs": [],
   "source": [
    "pwd = \".\"\n",
    "figs_dir = \"./figs\"\n",
    "!mkdir -p figs"
   ]
  },
  {
   "cell_type": "code",
   "execution_count": 19,
   "id": "195972f0",
   "metadata": {},
   "outputs": [],
   "source": [
    "def read_json(path):\n",
    "  fp = open(path, 'r')\n",
    "  nb_stats = json.load(fp)\n",
    "  fp.close()\n",
    "  return nb_stats"
   ]
  },
  {
   "cell_type": "code",
   "execution_count": 27,
   "id": "79bb5ad9",
   "metadata": {},
   "outputs": [],
   "source": [
    "timeDiffThresholdInMs = 200 # ignore cells with time difference less than this (200 ms is an empirical value)\n",
    "relativeSpeedupThreshold = 1.1 # ignore cells with relative speedup less than this (1.1x is an empirical value)\n",
    "curFileIndex = 0\n",
    "filepaths = (\n",
    "    \"aieducation_what-course-are-you-going-to-take\",\n",
    "    \"akshaypetkar_supermarket-sales-analysis\",\n",
    "    \"ampiiere_animal-crossing-villager-popularity-analysis\",\n",
    "    \"arimishabirin_globalsalary-simple-eda\",\n",
    "    \"artgor_eda-and-models\",\n",
    "    \"beratozmen_clash-of-clans-exploratory-data-analysis\",\n",
    "    \"brianmendieta_data-cleaning-plus-eda\",\n",
    "    \"carlmcbrideellis_simple-eda-of-kaggle-grandmasters-scheduled\",\n",
    "    \"corazzon_how-to-use-pandas-filter-in-survey-eda\",\n",
    "    \"dataranch_supermarket-sales-prediction-xgboost-fastai\",\n",
    "    \"deffro_eda-is-fun\",\n",
    "    \"erikbruin_nlp-on-student-writing-eda\",\n",
    "    \"gksriharsha_eda-speedtests\",\n",
    "    \"ibtesama_getting-started-with-a-movie-recommendation-system\",\n",
    "    \"itzsanju_eda-airline-dataset\",\n",
    "    \"jagangupta_stop-the-s-toxic-comments-eda\",\n",
    "    \"josecode1_billionaires-statistics-2023\",\n",
    "    \"joshuaswords_netflix-data-visualization\",\n",
    "    \"jyotsananegi_melbourne-housing-snapshot-eda\",\n",
    "    \"kabure_extensive-usa-youtube-eda\",\n",
    "    \"kanncaa1_dataiteam-titanic-eda\",\n",
    "    \"kenjee_titanic-project-example\",\n",
    "    \"khoongweihao_covid-19-novel-coronavirus-eda-forecasting-cases\",\n",
    "    \"kimtaehun_simple-preprocessing-for-time-series-prediction\",\n",
    "    \"kkhandekar_environmental-vs-ai-startups-india-eda\",\n",
    "    \"korfanakis_housing-in-london-eda-with-pandas-and-gif\",\n",
    "    \"lextoumbourou_feedback3-eda-hf-custom-trainer-sift\",\n",
    "    \"macespinoza_simple-eda-with-python-pandas-data-avocado-paltas\",\n",
    "    \"madhurpant_beautiful-kaggle-2022-analysis\",\n",
    "    \"madseth_customer-shopping-trends-dataset-eda\",\n",
    "    \"mathewvondersaar_analysis-of-student-performance\",\n",
    "    \"mikedelong_python-eda-with-kdes\",\n",
    "    \"mpwolke_just-you-wait-rishi-sunak\",\n",
    "    \"muhammadawaistayyab_used-cars-in-pakistan-stats\",\n",
    "    \"natigmamishov_eda-with-pandas-on-telecom-churn-dataset\",\n",
    "    \"nickwan_creating-player-stats-using-tracking-data\",\n",
    "    \"nicoleashley_iit-admission-eda\",\n",
    "    \"paultimothymooney_kaggle-survey-2022-all-results\",\n",
    "    \"pmarcelino_comprehensive-data-exploration-with-python\",\n",
    "    \"qnqfbqfqo_electric-vehicle-landscape-in-washington-state\",\n",
    "    \"robikscube_big-data-bowl-comprehensive-eda-with-pandas\",\n",
    "    \"roopacalistus_exploratory-data-analysis-retail-supermarket\",\n",
    "    \"roopacalistus_retail-supermarket-store-analysis\",\n",
    "    \"roopahegde_cryptocurrency-price-correlation\",\n",
    "    \"saisandeepjallepalli_adidas-retail-eda-data-visualization\",\n",
    "    \"sandhyakrishnan02_indian-startup-growth-analysis\",\n",
    "    \"saniaks_melbourne-house-price-eda\",\n",
    "    \"sanket7994_imdb-dataset-eda-project\",\n",
    "    \"shivavashishtha_zomato-eda-tutorial\",\n",
    "    \"spscientist_student-performance-in-exams\",\n",
    "    \"sunnybiswas_eda-on-airline-dataset\",\n",
    "    \"tanulsingh077_twitter-sentiment-extaction-analysis-eda-and-model\",\n",
    "    \"vanguarde_h-m-eda-first-look\",\n",
    "    \"vatsalmavani_music-recommendation-system-using-spotify-dataset\",\n",
    "    \"vbmokin_automatic-eda-with-pandas-profiling-2-9-09-2020\",\n",
    "    \"viviktpharale_house-price-prediction-eda-linear-ridge-lasso\",\n",
    "    \"willkoehrsen_start-here-a-gentle-introduction\",\n",
    "    \"xokent_cyber-security-attack-eda\",\n",
    "    \"yuliagm_talkingdata-eda-plus-time-patterns\",\n",
    ")"
   ]
  },
  {
   "cell_type": "code",
   "execution_count": 986,
   "id": "74413a10",
   "metadata": {},
   "outputs": [
    {
     "name": "stdout",
     "output_type": "stream",
     "text": [
      "Go ahead! yuliagm_talkingdata-eda-plus-time-patterns exists for all methods\n"
     ]
    }
   ],
   "source": [
    "filepath = filepaths[curFileIndex]\n",
    "curFileIndex += 1\n",
    "if curFileIndex == len(filepaths):\n",
    "    curFileIndex = 0\n",
    "analytical_path = \"../../../stats/gcp/nov12/Analytical_Original/\" + filepath + \".json\"\n",
    "modin_path = \"../../../stats/gcp/nov12/Modin_Original/\" + filepath + \".json\"\n",
    "pandas_path = \"../../../stats/gcp/nov12/Pandas_Original/\" + filepath + \".json\"\n",
    "if os.path.isfile(analytical_path) and os.path.isfile(modin_path) and os.path.isfile(analytical_path):\n",
    "    print(\"Go ahead! \" + filepath + \" exists for all methods\")\n",
    "    analytical_stats = read_json(analytical_path)\n",
    "    modin_stats = read_json(modin_path)\n",
    "    pandas_stats = read_json(pandas_path)\n",
    "else:\n",
    "    print(\"Re-run this cell! \" + filepath + \" does not exist for some methods\")"
   ]
  },
  {
   "cell_type": "code",
   "execution_count": 987,
   "id": "b9f5fd77",
   "metadata": {},
   "outputs": [],
   "source": [
    "assert len(modin_stats['cells']) == len(pandas_stats['cells']) and len(analytical_stats['cells']) == len(pandas_stats['cells'])\n",
    "d = {'Code': [], 'Pandas Time': [], 'Modin Time': [], 'Analytical Time': []}\n",
    "for i in range(len(pandas_stats['cells'])):\n",
    "  pd_cell = pandas_stats['cells'][i]\n",
    "  modin_cell = modin_stats['cells'][i]\n",
    "  analytical_cell = analytical_stats['cells'][i]\n",
    "  # The cell that imports is different for the pandas and modin versions\n",
    "  if \"import pandas\" not in pd_cell['raw']:\n",
    "    assert pd_cell['raw'] == modin_cell['raw'] and pd_cell['raw'] == analytical_cell['raw']\n",
    "  d['Code'].append(pd_cell['raw'])\n",
    "  d['Pandas Time'].append(ns_to_ms(pd_cell['total-ns']))\n",
    "  d['Modin Time'].append(ns_to_ms(modin_cell['total-ns']))\n",
    "  d['Analytical Time'].append(ns_to_ms(analytical_cell['total-ns']))"
   ]
  },
  {
   "cell_type": "code",
   "execution_count": 988,
   "id": "de985984",
   "metadata": {},
   "outputs": [],
   "source": [
    "df = pd.DataFrame(d)"
   ]
  },
  {
   "cell_type": "markdown",
   "id": "995745c4",
   "metadata": {},
   "source": [
    "## Stats"
   ]
  },
  {
   "cell_type": "code",
   "execution_count": 989,
   "id": "ec9caf49",
   "metadata": {},
   "outputs": [],
   "source": [
    "abs_diff_pm = df['Pandas Time'] - df['Modin Time']\n",
    "rel_diff_pm = df['Pandas Time'] / df['Modin Time']\n",
    "\n",
    "abs_diff_pa = df['Pandas Time'] - df['Analytical Time']\n",
    "rel_diff_pa = df['Pandas Time'] / df['Analytical Time']\n",
    "\n",
    "abs_diff_ma = df['Modin Time'] - df['Analytical Time']\n",
    "rel_diff_ma = df['Modin Time'] / df['Analytical Time']"
   ]
  },
  {
   "cell_type": "code",
   "execution_count": 990,
   "id": "08d53ba3",
   "metadata": {},
   "outputs": [
    {
     "name": "stdout",
     "output_type": "stream",
     "text": [
      "27.378613356000006\t27.516330174\t28.290251844999997\n"
     ]
    }
   ],
   "source": [
    "print(str(df['Pandas Time'].sum()/1000)+\"\\t\"+str(df['Modin Time'].sum()/1000)+\"\\t\"+str(df['Analytical Time'].sum()/1000))"
   ]
  },
  {
   "cell_type": "code",
   "execution_count": 991,
   "id": "83aaa004",
   "metadata": {},
   "outputs": [
    {
     "data": {
      "text/plain": [
       "Series([], dtype: float64)"
      ]
     },
     "execution_count": 991,
     "metadata": {},
     "output_type": "execute_result"
    }
   ],
   "source": [
    "abs_diff_pm[abs_diff_pm > timeDiffThresholdInMs]"
   ]
  },
  {
   "cell_type": "code",
   "execution_count": 992,
   "id": "bcf0419d",
   "metadata": {},
   "outputs": [
    {
     "data": {
      "text/plain": [
       "23    1.136132\n",
       "31    1.412251\n",
       "32    1.671916\n",
       "dtype: float64"
      ]
     },
     "execution_count": 992,
     "metadata": {},
     "output_type": "execute_result"
    }
   ],
   "source": [
    "rel_diff_pm[rel_diff_pm > relativeSpeedupThreshold]"
   ]
  },
  {
   "cell_type": "code",
   "execution_count": 993,
   "id": "01579e46",
   "metadata": {
    "scrolled": true
   },
   "outputs": [
    {
     "data": {
      "text/plain": [
       "<AxesSubplot:xlabel='Notebook index', ylabel='Time (ms)'>"
      ]
     },
     "execution_count": 993,
     "metadata": {},
     "output_type": "execute_result"
    },
    {
     "data": {
      "image/png": "[encoded data removed]",
      "text/plain": [
       "<Figure size 640x480 with 1 Axes>"
      ]
     },
     "metadata": {},
     "output_type": "display_data"
    }
   ],
   "source": [
    "abs_diff_pm.plot(kind='bar', xlabel='Notebook index', ylabel=\"Time (ms)\")"
   ]
  },
  {
   "cell_type": "code",
   "execution_count": 994,
   "id": "472561cb",
   "metadata": {},
   "outputs": [
    {
     "data": {
      "text/plain": [
       "Series([], dtype: float64)"
      ]
     },
     "execution_count": 994,
     "metadata": {},
     "output_type": "execute_result"
    }
   ],
   "source": [
    "abs_diff_pa[abs_diff_pa > timeDiffThresholdInMs]"
   ]
  },
  {
   "cell_type": "code",
   "execution_count": 995,
   "id": "efd17ef0",
   "metadata": {},
   "outputs": [
    {
     "data": {
      "text/plain": [
       "31    1.399911\n",
       "32    1.737934\n",
       "33    1.145332\n",
       "dtype: float64"
      ]
     },
     "execution_count": 995,
     "metadata": {},
     "output_type": "execute_result"
    }
   ],
   "source": [
    "rel_diff_pa[rel_diff_pa > relativeSpeedupThreshold]"
   ]
  },
  {
   "cell_type": "code",
   "execution_count": 996,
   "id": "3c157181",
   "metadata": {},
   "outputs": [
    {
     "data": {
      "text/plain": [
       "<AxesSubplot:xlabel='Notebook index', ylabel='Time (ms)'>"
      ]
     },
     "execution_count": 996,
     "metadata": {},
     "output_type": "execute_result"
    },
    {
     "data": {
      "image/png": "[encoded data removed]",
      "text/plain": [
       "<Figure size 640x480 with 1 Axes>"
      ]
     },
     "metadata": {},
     "output_type": "display_data"
    }
   ],
   "source": [
    "abs_diff_pa.plot(kind='bar', xlabel='Notebook index', ylabel=\"Time (ms)\")"
   ]
  },
  {
   "cell_type": "code",
   "execution_count": 928,
   "id": "46e6531a",
   "metadata": {},
   "outputs": [
    {
     "data": {
      "text/plain": [
       "0       1517.644457\n",
       "1       6781.107892\n",
       "2     258205.651065\n",
       "3       1466.659577\n",
       "5        933.833160\n",
       "8       1996.773457\n",
       "10      1595.458632\n",
       "12      1887.423888\n",
       "13      2566.414300\n",
       "14     79738.879767\n",
       "15     19533.427434\n",
       "16       958.210647\n",
       "17       714.817333\n",
       "18      1005.340388\n",
       "dtype: float64"
      ]
     },
     "execution_count": 928,
     "metadata": {},
     "output_type": "execute_result"
    }
   ],
   "source": [
    "abs_diff_ma[abs_diff_ma > timeDiffThresholdInMs]"
   ]
  },
  {
   "cell_type": "code",
   "execution_count": 929,
   "id": "cd016d78",
   "metadata": {},
   "outputs": [
    {
     "data": {
      "text/plain": [
       "0       1.467269\n",
       "1       1.250382\n",
       "2      26.163851\n",
       "3       2.191576\n",
       "5      22.396408\n",
       "8      60.862659\n",
       "10     16.602275\n",
       "12      4.782854\n",
       "13     29.840572\n",
       "14     32.793679\n",
       "15    207.300774\n",
       "16     10.825940\n",
       "17      8.353576\n",
       "18      8.310988\n",
       "19      1.356411\n",
       "dtype: float64"
      ]
     },
     "execution_count": 929,
     "metadata": {},
     "output_type": "execute_result"
    }
   ],
   "source": [
    "rel_diff_ma[rel_diff_ma > relativeSpeedupThreshold]"
   ]
  },
  {
   "cell_type": "code",
   "execution_count": 890,
   "id": "c8402bf2",
   "metadata": {},
   "outputs": [
    {
     "data": {
      "text/plain": [
       "<AxesSubplot:xlabel='Notebook index', ylabel='Time (ms)'>"
      ]
     },
     "execution_count": 890,
     "metadata": {},
     "output_type": "execute_result"
    },
    {
     "data": {
      "image/png": "[encoded data removed]",
      "text/plain": [
       "<Figure size 640x480 with 1 Axes>"
      ]
     },
     "metadata": {},
     "output_type": "display_data"
    }
   ],
   "source": [
    "abs_diff_ma.plot(kind='bar', xlabel='Notebook index', ylabel=\"Time (ms)\")"
   ]
  },
  {
   "cell_type": "code",
   "execution_count": 976,
   "id": "5a6f6932",
   "metadata": {},
   "outputs": [
    {
     "name": "stdout",
     "output_type": "stream",
     "text": [
      "49\n",
      "poly_features_names = list(app_train_poly.columns)\n",
      "\n",
      "# Impute the polynomial features\n",
      "imputer = SimpleImputer(strategy = 'median')\n",
      "\n",
      "poly_features = imputer.fit_transform(app_train_poly)\n",
      "poly_features_test = imputer.transform(app_test_poly)\n",
      "\n",
      "# Scale the polynomial features\n",
      "scaler = MinMaxScaler(feature_range = (0, 1))\n",
      "\n",
      "poly_features = scaler.fit_transform(poly_features)\n",
      "poly_features_test = scaler.transform(poly_features_test)\n",
      "\n",
      "# random_forest_poly = RandomForestClassifier(n_estimators = 100, random_state = 50, verbose = 1, n_jobs = -1)\n",
      "7\n",
      "app_train['TARGET'].astype(int)\n",
      "12\n",
      "# Create a label encoder object\n",
      "le = LabelEncoder()\n",
      "le_count = 0\n",
      "\n",
      "# Iterate through the columns\n",
      "for col in app_train:\n",
      "    if app_train[col].dtype == 'object':\n",
      "        # If 2 or fewer unique categories\n",
      "        if len(list(app_train[col].unique())) <= 2:\n",
      "            # Train on the training data\n",
      "            le.fit(app_train[col])\n",
      "            # Transform both training and testing data\n",
      "            app_train[col] = le.transform(app_train[col])\n",
      "            app_test[col] = le.transform(app_test[col])\n",
      "            \n",
      "            # Keep track of how many columns were label encoded\n",
      "            le_count += 1\n",
      "            \n",
      "print('%d columns were label encoded.' % le_count)\n"
     ]
    }
   ],
   "source": [
    "# If we want to check the code of a notebook\n",
    "print(49)\n",
    "print(df.iloc[48]['Code'])\n",
    "\n",
    "print(7)\n",
    "print(df.iloc[6]['Code'])\n",
    "\n",
    "print(12)\n",
    "print(df.iloc[11]['Code'])"
   ]
  },
  {
   "cell_type": "code",
   "execution_count": null,
   "id": "f02d6ffc",
   "metadata": {},
   "outputs": [],
   "source": []
  },
  {
   "cell_type": "code",
   "execution_count": null,
   "id": "8e9b556d",
   "metadata": {},
   "outputs": [],
   "source": []
  }
 ],
 "metadata": {
  "kernelspec": {
   "display_name": "Python 3 (ipykernel)",
   "language": "python",
   "name": "python3"
  },
  "language_info": {
   "codemirror_mode": {
    "name": "ipython",
    "version": 3
   },
   "file_extension": ".py",
   "mimetype": "text/x-python",
   "name": "python",
   "nbconvert_exporter": "python",
   "pygments_lexer": "ipython3",
   "version": "3.9.13"
  }
 },
 "nbformat": 4,
 "nbformat_minor": 5
}
